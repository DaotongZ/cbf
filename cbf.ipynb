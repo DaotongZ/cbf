{
 "cells": [
  {
   "cell_type": "code",
   "execution_count": 3,
   "id": "18a0064e",
   "metadata": {},
   "outputs": [],
   "source": [
    "import sys,os,mosek\n",
    "from numpy import *"
   ]
  },
  {
   "cell_type": "code",
   "execution_count": 4,
   "id": "048cc8f7",
   "metadata": {},
   "outputs": [],
   "source": [
    "list=[1,2,3,4]"
   ]
  },
  {
   "cell_type": "code",
   "execution_count": 6,
   "id": "c3398d30",
   "metadata": {},
   "outputs": [
    {
     "name": "stdout",
     "output_type": "stream",
     "text": [
      "1\n"
     ]
    }
   ],
   "source": [
    "print(list[0])"
   ]
  },
  {
   "cell_type": "code",
   "execution_count": null,
   "id": "ab3c2f87",
   "metadata": {},
   "outputs": [],
   "source": [
    "def streamprinter(text):\n",
    "    sys,stdout.write(text)\n",
    "    sys.stdout.flush()"
   ]
  },
  {
   "cell_type": "code",
   "execution_count": null,
   "id": "44276541",
   "metadata": {},
   "outputs": [],
   "source": [
    "def :\n",
    "    with mosek.Env() as env:\n",
    "        env.set_Stream(mosek.streamtype.log,streamprinter)\n",
    "        with env.Task() as task:\n",
    "            qosubi = [0,1,2,3,4,5,6]\n",
    "            qosubj = [0,1,2,3,4,5,6]\n",
    "            qoval = [1.0, 1.0 ,Pb ,Ph, Pw, Pv ,Pa]*2\n",
    "            \n",
    "    "
   ]
  }
 ],
 "metadata": {
  "kernelspec": {
   "display_name": "Python 3",
   "language": "python",
   "name": "python3"
  },
  "language_info": {
   "codemirror_mode": {
    "name": "ipython",
    "version": 3
   },
   "file_extension": ".py",
   "mimetype": "text/x-python",
   "name": "python",
   "nbconvert_exporter": "python",
   "pygments_lexer": "ipython3",
   "version": "3.8.5"
  }
 },
 "nbformat": 4,
 "nbformat_minor": 5
}
